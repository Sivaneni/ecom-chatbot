{
 "cells": [
  {
   "cell_type": "code",
   "execution_count": null,
   "id": "9472b2d3",
   "metadata": {},
   "outputs": [],
   "source": [
    "import getpass\n",
    "import os\n",
    "\n",
    "if not os.environ.get(\"TAVILY_API_KEY\"):\n",
    "    os.environ[\"TAVILY_API_KEY\"] = getpass.getpass(\"Tavily API key:\\n\")"
   ]
  },
  {
   "cell_type": "code",
   "execution_count": null,
   "id": "914931bc",
   "metadata": {},
   "outputs": [],
   "source": [
    "from langchain_tavily import TavilySearch\n",
    "\n",
    "tool = TavilySearch(\n",
    "    max_results=5,\n",
    "    topic=\"general\",\n",
    "    # include_answer=False,\n",
    "    # include_raw_content=False,\n",
    "     include_images=True,\n",
    "    # include_image_descriptions=False,\n",
    "    # search_depth=\"basic\",\n",
    "    # time_range=\"day\",\n",
    "    # include_domains=None,\n",
    "    # exclude_domains=None\n",
    ")"
   ]
  },
  {
   "cell_type": "code",
   "execution_count": null,
   "id": "266040cd",
   "metadata": {},
   "outputs": [],
   "source": []
  },
  {
   "cell_type": "code",
   "execution_count": null,
   "id": "0584e646",
   "metadata": {},
   "outputs": [],
   "source": [
    "tool.invoke({\"query\": \"What happened in asia cup between india and pakistan?\"})"
   ]
  },
  {
   "cell_type": "code",
   "execution_count": null,
   "id": "3516fc5c",
   "metadata": {},
   "outputs": [],
   "source": [
    "from langchain_core.documents import Document\n",
    "retreived_docs=[Document(id='9168d6e04a974ac4b948644086540656', metadata={'product_id': 'itm836637f91bd3b', 'product_title': 'DELL 15 Intel Core i7 13th Gen 1355U - (16 GB/512 GB SSD/Windows 11 Home) 3530 Thin and Light Laptop', 'rating': 4.2, 'total_reviews': 13, 'price': '₹65,639'}, page_content='5 Excellent Value of money,nice product READ MORE Ajay kumar  Shakya Certified Buyer , Bhind Jun, 2024 53 17 Permalink Report Abuse || 4 Wonderful This laptop is very useful for students for coading also others works is very smooth performance. READ MORE Aditya Kumar Certified Buyer , Thanesa 10 months ago 7 1 Permalink Report Abuse'), Document(id='b1b78c7990354465b1767dc70de6ba71', metadata={'product_id': 'itm2b7be11cfadef', 'product_title': 'Apple iPhone 16 (Teal, 256 GB)', 'rating': 4.6, 'total_reviews': 793, 'price': '₹84,900'}, page_content='5 Great product Loved it READ MORE Aryan Kumar Certified Buyer , Ranchi 5 months ago 69 8 Permalink Report Abuse || 5 Mind-blowing purchase Super and cool photo READ MORE Flipkart Customer Certified Buyer , Uttara Kannada District 6 months ago 528 109 Permalink Report Abuse'), Document(id='08ab66eaa5f34ce98c826599e6382c53', metadata={'product_id': 'itmd418a95d97079', 'product_title': 'GLOBAL NOMAD Back Cover for iPhone 16', 'rating': 3.3, 'total_reviews': 0, 'price': '₹420'}, page_content='No reviews found'), Document(id='596761ca44e3474caafe91257eacdd99', metadata={'product_id': 'itm7c0281cd247be', 'product_title': 'Apple iPhone 16 (White, 128 GB)', 'rating': 4.6, 'total_reviews': 793, 'price': '₹74,900'}, page_content=\"5 Great product Loved it READ MORE Aryan Kumar Certified Buyer , Ranchi 5 months ago 69 8 Permalink Report Abuse || 5 Mind-blowing purchase Super and cool photo READ MORE Flipkart Customer Certified Buyer , Uttara Kannada District 6 months ago 528 109 Permalink Report Abuse || 5 Super! Satisfied READ MORE Amit Kumar Chaudhary Certified Buyer , Patna 4 months ago 306 60 Permalink Report Abuse || 5 Mind-blowing purchase I love it ❤️❤️ READ MORE Ravi Arya Certified Buyer , Gangoh 7 months ago 234 67 Permalink Report Abuse || 5 Brilliant Doing good as of now! READ MORE Disha Singh Certified Buyer r , Agartala 4 months ago 150 41 Permalink Report Abuse || 5 Great product My father's first iphone❤️ Colour is awesome and so light in weight It should be available with 256gb Anyways design and camera is awesome READ MORE Arpit Singh Certified Buyer , Lakhimpur 11 monthhs ago 1505 568 Permalink Report Abuse || 5 Terrific purchase Awesome..Loved It.🥰🥰 READ MORE Rinky Kumari Certified Buyer , Ranchi 7 months ago 799 302 Permalink Report Abuse || 5 Best in the market! iOS is always amazing. READ MORE Flipkart Customer Certified Buyer , Thane 10 months ago 888 360 Permalink Report Abuse || 5 Worth every penny Best phone READ MORE Praveen Sharma Certified Buyer , Aron 7 months ago 84 26 Permalink Report Abuse || 5 Best in the market! Finally I got it 😃 and love it 😘 READ MORE Rohit Kumar Certified Buyer , Noida 7 months ago 49 13 Permalink Report Abuse\"), Document(id='e421a1e56c19477e9abd2fc6543ad97b', metadata={'product_id': 'itm7c0281cd247be', 'product_title': 'Apple iPhone 16 (White, 128 GB)', 'rating': 4.6, 'total_reviews': 793, 'price': '₹74,900'}, page_content=\"5 Great product Loved it READ MORE Aryan Kumar Certified Buyer , Ranchi 5 months ago 69 8 Permalink Report Abuse || 5 Mind-blowing purchase Super and cool photo READ MORE Flipkart Customer Certified Buyer , Uttara Kannada District 6 months ago 528 109 Permalink Report Abuse || 5 Super! Satisfied READ MORE Amit Kumar Chaudhary Certified Buyer , Patna 4 months ago 306 60 Permalink Report Abuse || 5 Mind-blowing purchase I love it ❤️❤️ READ MORE Ravi Arya Certified Buyer , Gangoh 7 months ago 234 67 Permalink Report Abuse || 5 Brilliant Doi ing good as of now! READ MORE Disha Singh Certified Buyer , Agartala 4 months ago 150 41 Permalink Report Abuse || 5 Great product My father's first iphone❤️ Colour is awesome and so light in weight It should be available with 256gb Anyways design and camera is awesome REEAD MORE Arpit Singh Certified Buyer , Lakhimpur 11 months ago 1505 568 Permalink Report Abuse || 5 Terrific purchase Awesome..Loved It.🥰🥰 READ MORE Rinky Kumari Certified Buyer , Ranchi 7 months ago 799 302 Permalink Report Abuse || 5 Best in the market! iOS is always amazing. READ MORE Flipkart Customer Certified Buyer , Thane 10 months ago 888 360 Permalink Report Abuse || 5 Worth every penny Best phone READ MORE Praveen Sharma Certified Buyer , Aron 7 months ago 84 26 Permalink Report Abuse || 5 Best in the market! Finally I got it 😃 and love it 😘 READ MORE Rohit Kumar Certified Buyer , Noida 7 months ago 49 13 Permalink Report Abuse\"), Document(id='8c26d892b01f424fad8e2b950d3334bb', metadata={'product_id': 'itm7c0281cd247be', 'product_title': 'Apple iPhone 16 (White, 128 GB)', 'rating': 4.6, 'total_reviews': 793, 'price': '₹74,900'}, page_content=\"5 Great product Loved it READ MORE Aryan Kumar Certified Buyer , Ranchi 5 months ago 69 8 Permalink Report Abuse || 5 Mind-blowing purchase Super and cool photo READ MORE Flipkart Customer Certified Buyer , Uttara Kannada District 6 months ago 528 109 Permalink Report Abuse || 5 Super! Satisfied READ MORE Amit Kumar Chaudhary Certified Buyer , Patna 4 months ago 306 60 Permalink Report Abuse || 5 Mind-blowing purchase I love it ❤️❤️ READ MORE Ravi Arya Certified Buyer , Gangoh 7 mon nths ago 234 67 Permalink Report Abuse || 5 Brilliant Doing good as of now! READ MORE Disha Singh Certified Buyer , Agartala 4 months ago 150 41 Permalink Report Abuse || 5 Great product My father's first iphone❤️ Colour is awesome and so light in weight It should be avaiilable with 256gb Anyways design and camera is awesome READ MORE Arpit Singh Certified Buyer , Lakhimpur 11 months ago 1505 568 Permalink Report Abuse || 5 Terrific purchase Awesome..Loved It.🥰🥰 READ MORE Rinky Kumari Certified Buyer , Ranchi 7 months ago 799 302 Permalink Report Abuse || 5 Best in the market! iOS is always amazing. READ MORE Flipkart Customer Certified Buyer , Thane 10 months ago 888 360 Permalink Report Abuse || 5 Worth every penny Best phone READ MORE Praveen Sharma Certified Buyer , Aron 7 months ago 84 26 Permalink Report Abuse || 5 Best in the market! Finally I got it 😃 and love it 😘 READ MORE Rohit Kumar Certified Buyer , Noida 7 months ago 49 13 Permalink Report Abuse\"), Document(id='ba121b5d72e345d98324e826458ae085', metadata={'product_id': 'itm7c0281cd247be', 'product_title': 'Apple iPhone 16 (White, 128 GB)', 'rating': 4.6, 'total_reviews': 793, 'price': '₹74,900'}, page_content=\"5 Great product Loved it READ MORE Aryan Kumar Certified Buyer , Ranchi 5 months ago 69 8 Permalink Report Abuse || 5 Mind-blowing purchase Super and cool photo READ MORE Flipkart Customer Certified Buyer , Uttara Kannada District 6 months ago 528 109 Permalink Report Abuse || 5 Super! Satisfied READ MORE Amit Kumar Chaudhary Certified Buyer , Patna 4 months ago 306 60 Permalink Report Abuse || 5 Mind-blowing purchase I love it ❤️❤️ READ MORE Ravi Arya Certified Buyer , Gangoh 7 months ago 234 67 Permalink Report Abuse || 5 Brilliant Doing good as of now! READ MORE Disha Singh Certified Buyer , Agartala 4 months ago 150 41 Permalink Report Abuse || 5 Great product My father's first iphone❤️ Co  olour is awesome and so light in weight It should be available with 256gb Anyways design and camera is awesome READ MORE Arpit Singh Certified Buyer , Lakhimpur 11 months ago 1505 568 Permalink Report Abuse || 5 Terrific purchase Awesome..Loved It.🥰🥰 READ MORE Rinky Kumari Certified Buyer , Ranchi 7 months ago 799 302 Permalink Report Abuse || 5 Best in the market! iOS is always amazing. READ MORE Flipkart Customer Certified Buyer , Thane 10 months ago 888 360 Permalink Report Abuse || 5 Worth every penny Best phone READ MORE Praveen Sharma Certified Buyer , Aron 7 months ago 84 26 Permalink Report Abuse || 5 Best in the market! Finally I got it 😃 and love it 😘 READ MORE Rohit Kumar Certified Buyer , Noida 7 months ago 49 13 Permalink Report Abuse\"), Document(id='e7e3a47d85774d85834833ca07448825', metadata={'product_id': 'itmb4659fd2a037f', 'product_title': 'OnePlus 13 (Midnight Ocean, 256 GB)', 'rating': 4.5, 'total_reviews': 18, 'price': '₹65,988'}, page_content=\"4 Pretty good Performance is best READ MORE Hatim Waziri Certified Buyer , Mubarakpur 5 months ago 103 29 Permalink Report Abuse || 5 Super! It's a beast. Loved it. Will keep posted if any issues occur. READ MORE Jeevan Chand Certified Buyer , Noida 5 months ago 114 33 Permalink Report Abuse || 5 Perfect product! This phone is the beast phone. I just love it READ MORE Babul D Certified Buyer , Hyderabad 6 months ago 147 45 Permalink Report Abuse || 4 Good quality product Best value phone and camera is super Cons need to fix camera and oxygen os READ MORE Shanawaz Syed Certified Buyer , Nandyal 3 months ago 30 6 Permalink Report Abuse || 5 Terrific The display is good but HDR videos appear dark. Sound quality is trash and boxy from speakers. Everything else is perfect. READ MORE Flipkart Customer Certified Buyer , Hyderabad 4 months ago 11 1 Permalink Report Abuse || 5 Terrific purchase What a lovely phone... If u r confused btwn this nd iqoo...simply go for it... You will not regret. READ MORE BILI BADAK Certified Buyer , Papum Pare District 4 months ago 11 4 Permalink Report Abuse || 5 Must buy! I am user of One plus 6t now I decide to upgrade version of One plus bought this beast 13 less size difference between 6t and 13 After one day used i came to know that only battery is not upto the mark except that phone is good even my one plus 6t battery is good in front of this 13 READ MORE Firoj Sheikh Certified Buyer , Chandrapur 1 month ago 3 0 Permalink Report Abuse || 5 Brilliant I like this phone and photos READ MORE Sahil Kashyap Certified Buyer , Karnal 4 months ago 15 9 Permalink Report Abuse || 5 Brilliant Wow. Never used any flagship phone before. This one is a beast. I am the owner for just 5 days. READ MORE kushal ghosh Certified Buyer , Kolkata 4 months ago 10 5 Permalink Report Abuse || 5 Highly recommended Worth every penny. Oneplus never disappoints. An all rounder flagship device. READ MORE Flipkart Customer Certified Buyer , Nagpur 1 month ago 2 0 Permalink Report Abuse\"), Document(id='becbf4a9353f4dcc8378b463b4af920c', metadata={'product_id': 'itmb4659fd2a037f', 'product_title': 'OnePlus 13 (Midnight Ocean, 256 GB)', 'rating': 4.5, 'total_reviews': 18, 'price': '₹65,988'}, page_content=\"4 Pretty good Performance is best READ MORE Hatim Waziri Certified Buyer , Mubarakpur 5 months ago 103 29 Permalink Report Abuse || 5 Super! It's a beast. Loved it. Will keep posted if any issues occur. READ MORE Jeevan Chand Certified Buyer , Noida 5 months ago 114 33 Permalink Report Abuse || 5 Perfect product! This phone is the beast phone. I just love it READ MORE Babul D Certified Buyer , Hyderabad 6 months ago 147 45 Permalink Report Abuse || 4 Good quality product Best value phone and camera is super Cons need to fix camera and oxygen os READ MORE Shanawaz Syed Certified Buyer , Nandyal 3 months ago 30 6 Permalink Report Abuse || 5 Terrific The display is good but HDR videos appear dark. Sound quality is trash and boxy from speakers. Everything else is perfect. READ MORE Flipkart Customer Certified Buyer , Hyderabad 4 months ago 11 1 Permalink Report Abuse || 5 Terrific purchase What a lovely phone... If u r confused btwn this nd iqoo...simply go for it... You will not regret. READ MORE BILI BADAK Certified Buyer , Papum Pare District 4 months ago 11 4 Permalink Report Abuse || 5 Must buy! I am user of One plus 6t now I decide to upgrade version of One plus bought this beast 13 less size difference between 6t and 13 After one day used i came to know that only battery is not upto the mark except that phone is good even my one plus 6t battery is good in front of this 13 READ MORE Firoj Sheikh Certified Buyer , Chandrapur 1 month ago 3 0 Permalink Report Abuse || 5 Brilliant I like this phone and photos READ MORE Sahil Kashyap Certified Buyer , Karnal 4 months ago 15 9 Permalink Report Abuse || 5 Brilliant Wow. Never used any flagship phone before. This one is a beast. I am the owner for just 5 days. READ MORE kushal ghosh Certified Buyer , Kolkata 4 months ago 10 5 Permalink Report Abuse || 5 Highly recommended Worth every penny. Oneplus never disappoints. An all rounder flagship device. READ MORE Flipkart Customer Certified Buyer , Nagpur 1 month ago 2 0 Permalink Report Abuse\"), Document(id='fcd4cebfa52143f98ae231a41ddb713c', metadata={'product_id': 'itmb4659fd2a037f', 'product_title': 'OnePlus 13 (Midnight Ocean, 256 GB)', 'rating': 4.5, 'total_reviews': 18, 'price': '₹65,988'}, page_content=\"4 Pretty good Performance is best READ MORE Hatim Waziri Certified Buyer , Mubarakpur 5 months ago 103 29 Permalink Report Abuse || 5 Super! It's a beast. Loved it. Will keep posted if any issues occur. READ MORE Jeevan Chand Certified Buyer , Noida 5 months ago 114 33 Permalink Report Abuse || 5 Perfect product! This phone is the beast phone. I just love it READ MORE Babul D Certified Buyer , Hyderabad 6 months ago 147 45 Permalink Report Abuse || 4 Good quality product Best value phone and camera is super Cons need to fix camera and oxygen os READ MORE Shanawaz Syed Certified Buyer , Nandyal 3 months ago 30 6 Permalink Report Abuse || 5 Terrific The display is good but HDR videos appear dark. Sound quality is trash and boxy from speakers. Everything else is perfect. READ MORE Flipkart Customer Certified Buyer , Hyderabad 4 months ago 11 1 Permalink Report Abuse || 5 Terrific purchase What a lovely phone... If u r confused btwn this nd iqoo...simply go for it... You will not regret. READ MORE BILI BADAK Certified Buyer , Papum Pare District 4 months ago 11 4 Permalink Report Abuse || 5 Must buy! I am user of One plus 6t now I decide to upgrade version of One plus bought this beast 13 less size difference between 6t and 13 After one day used i came to know that only battery is not upto the mark except that phone is good even my one plus 6t battery is good in front of this 13 READ MORE Firoj Sheikh Certified Buyer , Chandrapur 1 month ago 3 0 Permalink Report Abuse || 5 Brilliant I like this phone and photos READ MORE Sahil Kashyap Certified Buyer , Karnal 4 months ago 15 9 Permalink Report Abuse || 5 Brilliant Wow. Never used any flagship phone before. This one is a beast. I am the owner for just 5 days. READ MORE kushal ghosh Certified Buyer , Kolkata 4 months ago 10 5 Permalink Report Abuse || 5 Highly recommended Worth every penny. Oneplus never disappoints. An all rounder flagship device. READ MORE Flipkart Customer Certified Buyer , Nagpur 1 month ago 2 0 Permalink Report Abuse\")]\n",
    "print(retreived_docs)"
   ]
  },
  {
   "cell_type": "code",
   "execution_count": null,
   "id": "2ca67ba9",
   "metadata": {},
   "outputs": [],
   "source": [
    "retreived_docs[0].metadata"
   ]
  },
  {
   "cell_type": "code",
   "execution_count": null,
   "id": "f27189ea",
   "metadata": {},
   "outputs": [],
   "source": [
    "def _format_docs(docs) -> str:\n",
    "        if not docs:\n",
    "            return \"No relevant documents found.\"\n",
    "        formatted_chunks = []\n",
    "        \n",
    "        meta = docs.metadata or {}\n",
    "        formatted = (\n",
    "            f\"Title: {meta.get('product_title', 'N/A')}\\n\"\n",
    "            f\"Price: {meta.get('price', 'N/A')}\\n\"\n",
    "            f\"Rating: {meta.get('rating', 'N/A')}\\n\"\n",
    "            f\"Reviews:\\n{docs.page_content.strip()}\"\n",
    "        )\n",
    "        formatted_chunks.append(formatted)\n",
    "        return \"\\n\\n---\\n\\n\".join(formatted_chunks)\n",
    "retrieved_contexts = [_format_docs(doc) for doc in retreived_docs]\n",
    "\n",
    "print(retrieved_contexts)"
   ]
  },
  {
   "cell_type": "code",
   "execution_count": 1,
   "id": "96f9a78c",
   "metadata": {},
   "outputs": [
    {
     "name": "stderr",
     "output_type": "stream",
     "text": [
      "c:\\Users\\SIVANENI PRASANNA\\ecom-prod-assistant\\env\\Lib\\site-packages\\tqdm\\auto.py:21: TqdmWarning: IProgress not found. Please update jupyter and ipywidgets. See https://ipywidgets.readthedocs.io/en/stable/user_install.html\n",
      "  from .autonotebook import tqdm as notebook_tqdm\n",
      "{\"timestamp\": \"2025-09-17T10:27:28.641904Z\", \"level\": \"info\", \"event\": \"Running in LOCAL mode: .env loaded\"}\n",
      "{\"timestamp\": \"2025-09-17T10:27:28.645780Z\", \"level\": \"info\", \"event\": \"Loaded GROQ_API_KEY from individual env var\"}\n",
      "{\"timestamp\": \"2025-09-17T10:27:28.647795Z\", \"level\": \"info\", \"event\": \"Loaded GOOGLE_API_KEY from individual env var\"}\n",
      "{\"timestamp\": \"2025-09-17T10:27:28.650790Z\", \"level\": \"info\", \"event\": \"Loaded TAVILY_API_KEY from individual env var\"}\n",
      "{\"keys\": {\"GROQ_API_KEY\": \"gsk_7U...\", \"GOOGLE_API_KEY\": \"AIzaSy...\", \"TAVILY_API_KEY\": \"tvly-d...\"}, \"timestamp\": \"2025-09-17T10:27:28.652794Z\", \"level\": \"info\", \"event\": \"API keys loaded\"}\n",
      "{\"config_keys\": [\"astra_db\", \"embedding_model\", \"retriever\", \"llm\"], \"timestamp\": \"2025-09-17T10:27:28.661101Z\", \"level\": \"info\", \"event\": \"YAML config loaded\"}\n"
     ]
    }
   ],
   "source": [
    "import os\n",
    "from langchain_astradb import AstraDBVectorStore\n",
    "from typing import List\n",
    "from langchain_core.documents import Document\n",
    "from utils.config_loader import load_config\n",
    "from utils.model_loader import ModelLoader\n",
    "from dotenv import load_dotenv\n",
    "import sys\n",
    "from pathlib import Path\n",
    "from langchain_core.runnables import RunnablePassthrough\n",
    "from prompt_library.prompts import PROMPT_REGISTRY, PromptType\n",
    "from langchain_core.prompts import ChatPromptTemplate\n",
    "from langchain_core.output_parsers import StrOutputParser\n",
    "\n",
    "from langchain.retrievers.document_compressors import LLMChainFilter\n",
    "from langchain.retrievers import ContextualCompressionRetriever\n",
    "from evaluation.ragas_eval import evaluate_context_precision, evaluate_response_relevancy"
   ]
  },
  {
   "cell_type": "code",
   "execution_count": 2,
   "id": "c6ab2044",
   "metadata": {},
   "outputs": [
    {
     "name": "stderr",
     "output_type": "stream",
     "text": [
      "{\"timestamp\": \"2025-09-17T10:27:34.358325Z\", \"level\": \"info\", \"event\": \"Running in LOCAL mode: .env loaded\"}\n",
      "{\"timestamp\": \"2025-09-17T10:27:34.359326Z\", \"level\": \"info\", \"event\": \"Loaded GROQ_API_KEY from individual env var\"}\n",
      "{\"timestamp\": \"2025-09-17T10:27:34.360326Z\", \"level\": \"info\", \"event\": \"Loaded GOOGLE_API_KEY from individual env var\"}\n",
      "{\"timestamp\": \"2025-09-17T10:27:34.361327Z\", \"level\": \"info\", \"event\": \"Loaded TAVILY_API_KEY from individual env var\"}\n",
      "{\"keys\": {\"GROQ_API_KEY\": \"gsk_7U...\", \"GOOGLE_API_KEY\": \"AIzaSy...\", \"TAVILY_API_KEY\": \"tvly-d...\"}, \"timestamp\": \"2025-09-17T10:27:34.362326Z\", \"level\": \"info\", \"event\": \"API keys loaded\"}\n",
      "{\"config_keys\": [\"astra_db\", \"embedding_model\", \"retriever\", \"llm\"], \"timestamp\": \"2025-09-17T10:27:34.365324Z\", \"level\": \"info\", \"event\": \"YAML config loaded\"}\n",
      "{\"model\": \"models/text-embedding-004\", \"timestamp\": \"2025-09-17T10:27:34.366326Z\", \"level\": \"info\", \"event\": \"Loading embedding model\"}\n",
      "vector store default init, collection 'ecommercedata'\n",
      "No valid keyspace found in environment variable.\n",
      "Detecting API environment 'prod' from supplied endpoint\n",
      "createCollection('ecommercedata')\n",
      "HTTP Request: POST https://5495bfee-f583-4142-a067-22d39753d655-us-east-2.apps.astra.datastax.com/api/json/v1/default_keyspace \"HTTP/1.1 200 OK\"\n",
      "finished createCollection('ecommercedata')\n"
     ]
    }
   ],
   "source": [
    "vstore =AstraDBVectorStore(\n",
    "                embedding= ModelLoader().load_embeddings(),\n",
    "                collection_name=\"ecommercedata\",\n",
    "                api_endpoint=\"https://5495bfee-f583-4142-a067-22d39753d655-us-east-2.apps.astra.datastax.com\",\n",
    "                token=\"AstraCS:HuKeOMuFiZaXtUxInAhmCyvn:523d9b1a041385cc24073d49ee0ad2e12ab9fab687745228e4d18dc5116c539b\",\n",
    "                namespace=\"default_keyspace\"\n",
    "                )\n"
   ]
  },
  {
   "cell_type": "code",
   "execution_count": 6,
   "id": "9d66f135",
   "metadata": {},
   "outputs": [
    {
     "name": "stderr",
     "output_type": "stream",
     "text": [
      "{\"timestamp\": \"2025-09-17T10:31:24.639793Z\", \"level\": \"info\", \"event\": \"Running in LOCAL mode: .env loaded\"}\n",
      "{\"timestamp\": \"2025-09-17T10:31:24.640801Z\", \"level\": \"info\", \"event\": \"Loaded GROQ_API_KEY from individual env var\"}\n",
      "{\"timestamp\": \"2025-09-17T10:31:24.643635Z\", \"level\": \"info\", \"event\": \"Loaded GOOGLE_API_KEY from individual env var\"}\n",
      "{\"timestamp\": \"2025-09-17T10:31:24.645643Z\", \"level\": \"info\", \"event\": \"Loaded TAVILY_API_KEY from individual env var\"}\n",
      "{\"keys\": {\"GROQ_API_KEY\": \"gsk_7U...\", \"GOOGLE_API_KEY\": \"AIzaSy...\", \"TAVILY_API_KEY\": \"tvly-d...\"}, \"timestamp\": \"2025-09-17T10:31:24.647718Z\", \"level\": \"info\", \"event\": \"API keys loaded\"}\n",
      "{\"config_keys\": [\"astra_db\", \"embedding_model\", \"retriever\", \"llm\"], \"timestamp\": \"2025-09-17T10:31:24.650668Z\", \"level\": \"info\", \"event\": \"YAML config loaded\"}\n",
      "{\"provider\": \"google\", \"model\": \"gemini-2.0-flash\", \"timestamp\": \"2025-09-17T10:31:24.652667Z\", \"level\": \"info\", \"event\": \"Loading LLM\"}\n",
      "cursor fetching a page: (empty page state) from ecommercedata\n",
      "HTTP Request: POST https://5495bfee-f583-4142-a067-22d39753d655-us-east-2.apps.astra.datastax.com/api/json/v1/default_keyspace/ecommercedata \"HTTP/1.1 200 OK\"\n",
      "cursor finished fetching a page: (empty page state) from ecommercedata\n"
     ]
    },
    {
     "name": "stdout",
     "output_type": "stream",
     "text": [
      "docs retreived are [Document(id='9168d6e04a974ac4b948644086540656', metadata={'product_id': 'itm836637f91bd3b', 'product_title': 'DELL 15 Intel Core i7 13th Gen 1355U - (16 GB/512 GB SSD/Windows 11 Home) 3530 Thin and Light Laptop', 'rating': 4.2, 'total_reviews': 13, 'price': '₹65,639'}, page_content='5 Excellent Value of money,nice product READ MORE Ajay kumar  Shakya Certified Buyer , Bhind Jun, 2024 53 17 Permalink Report Abuse || 4 Wonderful This laptop is very useful for students for coading also others works is very smooth performance. READ MORE Aditya Kumar Certified Buyer , Thanesa 10 months ago 7 1 Permalink Report Abuse'), Document(id='b1b78c7990354465b1767dc70de6ba71', metadata={'product_id': 'itm2b7be11cfadef', 'product_title': 'Apple iPhone 16 (Teal, 256 GB)', 'rating': 4.6, 'total_reviews': 793, 'price': '₹84,900'}, page_content='5 Great product Loved it READ MORE Aryan Kumar Certified Buyer , Ranchi 5 months ago 69 8 Permalink Report Abuse || 5 Mind-blowing purchase Super and cool photo READ MORE Flipkart Customer Certified Buyer , Uttara Kannada District 6 months ago 528 109 Permalink Report Abuse')]\n"
     ]
    }
   ],
   "source": [
    "mmr_retreiver=vstore.as_retriever(search_type=\"mmr\",\n",
    "                                                    search_kwargs={\"k\": 10, \n",
    "                                                                   \"fetch_k\": 20,\n",
    "                                                                   \"lambda_mult\": 0.7,\n",
    "                                                                    \"score_threshold\": 0.6\n",
    "\n",
    "                                                                   })\n",
    "retriever=vstore.as_retriever(search_kwargs={\"k\": 1})\n",
    "llm=ModelLoader().load_llm()\n",
    "compressor=LLMChainFilter.from_llm(llm)\n",
    "compress_retriever=ContextualCompressionRetriever(base_retriever=mmr_retreiver,base_compressor=compressor)\n",
    "\n",
    "#docs=retriever.invoke(\"laptop for price below 70k?\")\n",
    "docs=compress_retriever.invoke(\"Laptop or desktop for price below 70k?\")\n",
    "print(\"docs retreived are\",docs)"
   ]
  },
  {
   "cell_type": "code",
   "execution_count": 3,
   "id": "023dc255",
   "metadata": {},
   "outputs": [
    {
     "data": {
      "text/plain": [
       "str"
      ]
     },
     "execution_count": 3,
     "metadata": {},
     "output_type": "execute_result"
    }
   ],
   "source": [
    "from langchain_core.documents import Document\n",
    "response= {'input': 'what is the best DELL G15 for price below 70k and provide its price also?', 'context': [Document(id='b1b78c7990354465b1767dc70de6ba71', metadata={'product_id': 'itm2b7be11cfadef', 'product_title': 'Apple iPhone 16 (Teal, 256 GB)', 'rating': 4.6, 'total_reviews': 793, 'price': '₹84,900'}, page_content='5 Great product Loved it READ MORE Aryan Kumar Certified Buyer , Ranchi 5 months ago 69 8 Permalink Report Abuse || 5 Mind-blowing purchase Super and cool photo READ MORE Flipkart Customer Certified Buyer , Uttara Kannada District 6 months ago 528 109 Permalink Report Abuse')], 'answer': 'The provided context does not contain any information about DELL G15 laptops or their prices. Therefore, I cannot answer your question.'}\n",
    "response['context']\n",
    "type(response['input'])"
   ]
  },
  {
   "cell_type": "code",
   "execution_count": 7,
   "id": "1cd1896a",
   "metadata": {},
   "outputs": [
    {
     "data": {
      "text/plain": [
       "'The factorial of 5 is **120**.'"
      ]
     },
     "execution_count": 7,
     "metadata": {},
     "output_type": "execute_result"
    }
   ],
   "source": [
    "from langchain_core.messages import HumanMessage, AIMessage,ToolMessage\n",
    "llm_response={'messages': [HumanMessage(content='what is factorial of 5?', additional_kwargs={}, response_metadata={}, id='a5e7aa14-47f4-4f81-a3c6-966250b08d9e'), AIMessage(content=\"To find the factorial of 5, we'll use the `factorial` function.\\n\\n\", additional_kwargs={'reasoning_content': \"Okay, the user is asking for the factorial of 5. I know that the factorial of a number n (denoted as n!) is the product of all positive integers less than or equal to n. So, 5! should be 5 × 4 × 3 × 2 × 1. Let me calculate that: 5 × 4 is 20, 20 × 3 is 60, 60 × 2 is 120, and 120 × 1 is 120. So, the factorial of 5 is 120. I should use the factorial function provided to confirm this. The function requires an integer n, which in this case is 5. I'll call the function with n=5 to get the result.\\n\", 'tool_calls': [{'id': 'wk2g0fbe3', 'function': {'arguments': '{\"n\":5}', 'name': 'factorial'}, 'type': 'function'}]}, response_metadata={'token_usage': {'completion_tokens': 211, 'prompt_tokens': 222, 'total_tokens': 433, 'completion_time': 0.68301767, 'prompt_time': 0.029091662, 'queue_time': 0.050809688, 'total_time': 0.712109332}, 'model_name': 'deepseek-r1-distill-llama-70b', 'system_fingerprint': 'fp_1bbe7845ec', 'service_tier': 'on_demand', 'finish_reason': 'tool_calls', 'logprobs': None}, id='run--199d5df3-87a0-47dd-9440-96c0e52f7ec2-0', tool_calls=[{'name': 'factorial', 'args': {'n': 5}, 'id': 'wk2g0fbe3', 'type': 'tool_call'}], usage_metadata={'input_tokens': 222, 'output_tokens': 211, 'total_tokens': 433}), ToolMessage(content='120', name='factorial', id='ff2d3a1c-bec5-419d-aab7-93f5a9a92454', tool_call_id='wk2g0fbe3'), AIMessage(content='The factorial of 5 is **120**.', additional_kwargs={'reasoning_content': 'Alright, the user is asking for the factorial of 5. I know that the factorial of a number n (written as n!) is the product of all positive integers up to n. So, 5! should be 5 × 4 × 3 × 2 × 1. Let me do that multiplication step by step to make sure I get it right.\\n\\nFirst, 5 times 4 is 20. Then, 20 times 3 is 60. Next, 60 times 2 is 120. Finally, 120 times 1 is still 120. So, 5! equals 120. I can confidently provide this result to the user.\\n'}, response_metadata={'token_usage': {'completion_tokens': 155, 'prompt_tokens': 272, 'total_tokens': 427, 'completion_time': 0.548114178, 'prompt_time': 0.033709033, 'queue_time': 0.046199187, 'total_time': 0.581823211}, 'model_name': 'deepseek-r1-distill-llama-70b', 'system_fingerprint': 'fp_1bbe7845ec', 'service_tier': 'on_demand', 'finish_reason': 'stop', 'logprobs': None}, id='run--6cc7a05e-6046-404a-8dea-8ad5a1b25938-0', usage_metadata={'input_tokens': 272, 'output_tokens': 155, 'total_tokens': 427})]}\n",
    "llm_response['messages'][-1].content"
   ]
  }
 ],
 "metadata": {
  "kernelspec": {
   "display_name": "env",
   "language": "python",
   "name": "python3"
  },
  "language_info": {
   "codemirror_mode": {
    "name": "ipython",
    "version": 3
   },
   "file_extension": ".py",
   "mimetype": "text/x-python",
   "name": "python",
   "nbconvert_exporter": "python",
   "pygments_lexer": "ipython3",
   "version": "3.11.13"
  }
 },
 "nbformat": 4,
 "nbformat_minor": 5
}
